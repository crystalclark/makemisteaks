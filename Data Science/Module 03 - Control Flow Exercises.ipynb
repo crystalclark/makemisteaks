{
 "cells": [
  {
   "cell_type": "markdown",
   "metadata": {},
   "source": [
    "## Module 03 - Control Flow Exercises"
   ]
  },
  {
   "cell_type": "markdown",
   "metadata": {},
   "source": [
    "### Exercise 1 \n",
    "\n",
    "Guess a number between 1 to 9 given by the user."
   ]
  },
  {
   "cell_type": "code",
   "execution_count": null,
   "metadata": {},
   "outputs": [],
   "source": [
    "guess = 1\n",
    "\n",
    "while guess < 10:\n",
    "    answer = input(\"Is your number \" + str(guess) + \"? Enter y for yes, n for no. \")\n",
    "    if answer == \"y\""
   ]
  },
  {
   "cell_type": "markdown",
   "metadata": {},
   "source": [
    "### Exercise 2\n",
    "Check the validity of password input by the user.\n",
    "\n",
    "Validation:\n",
    "\n",
    "- At least 1 letter between [a-z] and 1 letter between [A-Z]\n",
    "- At least 1 number between [0-9]\n",
    "- At least 1 character from [$#@]\n",
    "- Minimum length 6 characters\n",
    "- Maximum length 16 characters"
   ]
  },
  {
   "cell_type": "code",
   "execution_count": null,
   "metadata": {},
   "outputs": [],
   "source": [
    "len"
   ]
  },
  {
   "cell_type": "markdown",
   "metadata": {},
   "source": [
    "### Excercise 3\n",
    "Get the input of the age of 3 people by user and determine oldest and youngest amoung them."
   ]
  },
  {
   "cell_type": "code",
   "execution_count": null,
   "metadata": {},
   "outputs": [],
   "source": []
  },
  {
   "cell_type": "markdown",
   "metadata": {},
   "source": [
    "### Exercise 4 \n",
    "A student will not be allowed to sit in an exam if their attendance is less than 75%.\n",
    "Take the following input from user\n",
    "- Number of classes held\n",
    "- Number of classes attended.\n",
    "- And print\n",
    "- Percentage of the class attended\n",
    "\n",
    "Is the student allowed to sit in the exam or not?"
   ]
  },
  {
   "cell_type": "code",
   "execution_count": null,
   "metadata": {},
   "outputs": [],
   "source": []
  },
  {
   "cell_type": "markdown",
   "metadata": {},
   "source": [
    "### Exercise 5\n",
    "Get an integer N from the user and perform the following actions:\n",
    "- If N is odd, print \"weird\"\n",
    "- If N is even and in the inclusive range of 2 to 5, print \"Not Weird\"\n",
    "- If N is even and in the inclusive range of 6 to 20, print \"Weird\"\n",
    "- If Nis even and greater than 20, print \"Not Weird\""
   ]
  },
  {
   "cell_type": "code",
   "execution_count": null,
   "metadata": {},
   "outputs": [],
   "source": [
    "N = int(input(\"Enter a number \"))"
   ]
  }
 ],
 "metadata": {
  "kernelspec": {
   "display_name": "Python 3",
   "language": "python",
   "name": "python3"
  },
  "language_info": {
   "codemirror_mode": {
    "name": "ipython",
    "version": 3
   },
   "file_extension": ".py",
   "mimetype": "text/x-python",
   "name": "python",
   "nbconvert_exporter": "python",
   "pygments_lexer": "ipython3",
   "version": "3.8.3"
  }
 },
 "nbformat": 4,
 "nbformat_minor": 4
}
