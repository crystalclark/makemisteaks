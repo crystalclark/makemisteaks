{
 "cells": [
  {
   "cell_type": "markdown",
   "metadata": {},
   "source": [
    "# Module 08 - Object Oriented Programming Inheritance and Methods"
   ]
  },
  {
   "cell_type": "markdown",
   "metadata": {},
   "source": [
    "Inheritance Exercise\n",
    "Complete the following exercise and upload your script\n",
    "\n",
    "\n",
    "You are given two classes, Person and Student, where Person is the base class and Student is the derived class. Completed code for Person and a declaration for Student are provided for you in the editor. Observe that Student inherits all the properties of Person.\n",
    "\n",
    "Complete the Student class by writing the following:\n",
    "A Student class constructor, which has 4 parameters:\n",
    "- A string, firstName\n",
    "- A string, lastName\n",
    "- An integer, id\n",
    "An integer array (or vector) of test scores, scores\n",
    "\n",
    "A char calculate() method that calculates a Student object's average and returns the grade character representative of their calculated average:\n",
    "A | 90-100\n",
    "B | 80-89\n",
    "C | 70-79\n",
    "D | 60-69\n",
    "F | <60\n",
    "Submission status\n",
    "Submission status\tNo attempt\n",
    "Grading status\tNot graded\n",
    "Last modified\t-\n",
    "Submission comments\t\n",
    "Comments (0)"
   ]
  },
  {
   "cell_type": "code",
   "execution_count": null,
   "metadata": {},
   "outputs": [],
   "source": [
    "class Person(object):\n",
    "    first = \"\"\n",
    "    last = \"\"\n",
    "    def __init__(self, first, last):\n",
    "        self.first = str(first)\n",
    "        self.last = str(last)\n",
    "\n",
    "class Student(Person):\n",
    "    def __init__(self, first, last, id, scores):\n",
    "        super().__init__(first, last)\n",
    "        self.id = id\n",
    "        self.scores = scores\n",
    "    def __avg__(self, scores):\n",
    "        avg = sum(scores)/len(scores)\n",
    "        return avg\n",
    "    def __calculate__(self, avg):\n",
    "        if 90<=avg<=100:\n",
    "            return \"A\"\n",
    "        elif 80<=avg<=89:\n",
    "            return \"B\"\n",
    "        elif 70<=avg<=79:\n",
    "            return \"C\"\n",
    "        elif 60<=avg<=69:\n",
    "            return \"D\"\n",
    "        else:\n",
    "            return \"F\"\n",
    "\n",
    "first = input(\"Hello! Please enter student first name: \")\n",
    "last = input(\"Please enter student last name: \")\n",
    "id = int(input(\"Please enter student ID: \"))\n",
    "scores = list(map(int, input(\"Please enter test scores (space-separated #'s): \").split(' ')))\n",
    "print(\"Thanks!\")\n",
    "print(\" \")\n",
    "student1 = Student(first, last, id, scores)\n",
    "avg = student1.__avg__(scores)\n",
    "grade = student1.__calculate__(avg)\n",
    "print(\"The student got a letter grade of\", grade, \"for the year.\")\n"
   ]
  },
  {
   "cell_type": "markdown",
   "metadata": {},
   "source": [
    "A derived class is sometimes also called a subclass and the base class is called super class. The inheritance relation of two classes B and C can be tested with function issubclass: issubclass(C,B)==True but issubclass(B,C)==False Function isinstance(obj, cls) allows us to test whether an instance has type cls or has an ancestor class of type cls. Let’s create instances x=C() and y=B(). Now we have isinstance(x,B)==\n",
    "isinstance(x,C)==isinstance(y,B)==True. But isinstance(y,C)==False."
   ]
  }
 ],
 "metadata": {
  "kernelspec": {
   "display_name": "Python 3",
   "language": "python",
   "name": "python3"
  },
  "language_info": {
   "codemirror_mode": {
    "name": "ipython",
    "version": 3
   },
   "file_extension": ".py",
   "mimetype": "text/x-python",
   "name": "python",
   "nbconvert_exporter": "python",
   "pygments_lexer": "ipython3",
   "version": "3.8.3"
  }
 },
 "nbformat": 4,
 "nbformat_minor": 4
}
